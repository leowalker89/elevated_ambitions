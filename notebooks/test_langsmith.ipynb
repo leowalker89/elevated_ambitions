{
 "cells": [
  {
   "cell_type": "code",
   "execution_count": 1,
   "metadata": {},
   "outputs": [],
   "source": [
    "import os\n",
    "import uuid\n",
    "from dotenv import load_dotenv\n",
    "load_dotenv()\n",
    "uid = uuid.uuid4()\n",
    "# os.environ[\"LANGCHAIN_API_KEY\"] = os.getenv(\"LANGCHAIN_API_KEY\")\n",
    "# os.environ[\"ANTHROPIC_API_KEY\"] = os.getenv(\"ANTHROPIC_API_KEY\")"
   ]
  },
  {
   "cell_type": "code",
   "execution_count": 2,
   "metadata": {},
   "outputs": [],
   "source": [
    "from langsmith import Client\n",
    "\n",
    "share_token = \"08ab7912-006e-4c00-a973-0f833e74907b\"\n",
    "dataset_name = f\"Contract Extraction - {uid}\"\n",
    "\n",
    "client = Client()\n",
    "examples = list(client.list_shared_examples(share_token))\n",
    "dataset = client.create_dataset(dataset_name=dataset_name)\n",
    "client.create_examples(\n",
    "    inputs=[e.inputs for e in examples],\n",
    "    outputs=[e.outputs for e in examples],\n",
    "    dataset_id=dataset.id,\n",
    ")"
   ]
  },
  {
   "cell_type": "code",
   "execution_count": null,
   "metadata": {},
   "outputs": [],
   "source": []
  },
  {
   "cell_type": "code",
   "execution_count": 6,
   "metadata": {},
   "outputs": [],
   "source": [
    "from typing import List, Optional, Union\n",
    "\n",
    "from pydantic import BaseModel\n",
    "\n",
    "\n",
    "class Address(BaseModel):\n",
    "    street: str\n",
    "    city: str\n",
    "    state: str\n",
    "    zip_code: str\n",
    "    country: Optional[str]\n",
    "\n",
    "\n",
    "class Party(BaseModel):\n",
    "    name: str\n",
    "    address: Address\n",
    "    type: Optional[str]\n",
    "\n",
    "\n",
    "class Section(BaseModel):\n",
    "    title: str\n",
    "    content: str\n",
    "\n",
    "\n",
    "class Contract(BaseModel):\n",
    "    document_title: str\n",
    "    exhibit_number: Optional[str]\n",
    "    effective_date: str\n",
    "    parties: List[Party]\n",
    "    sections: List[Section]"
   ]
  },
  {
   "cell_type": "code",
   "execution_count": 9,
   "metadata": {},
   "outputs": [],
   "source": [
    "from langchain import hub\n",
    "from langchain.chains import create_extraction_chain\n",
    "from langchain.chat_models import ChatAnthropic\n",
    "from langchain_experimental.llms.anthropic_functions import AnthropicFunctions\n",
    "\n",
    "contract_prompt = hub.pull(\"wfh/anthropic_contract_extraction\")\n",
    "\n",
    "\n",
    "extraction_subchain = create_extraction_chain(\n",
    "    Contract.model_json_schema(),\n",
    "    llm=AnthropicFunctions(model=\"claude-2\", max_tokens=20_000),\n",
    "    prompt=contract_prompt,\n",
    ")\n",
    "# Dataset inputs have an \"context\" key, but this chain\n",
    "# expects a dict with an \"input\" key\n",
    "chain = (\n",
    "    (lambda x: {\"input\": x[\"context\"]})\n",
    "    | extraction_subchain\n",
    "    | (lambda x: {\"output\": x[\"text\"]})\n",
    ")"
   ]
  },
  {
   "cell_type": "code",
   "execution_count": 16,
   "metadata": {},
   "outputs": [
    {
     "data": {
      "text/plain": [
       "ChatPromptTemplate(input_variables=['input'], messages=[HumanMessagePromptTemplate(prompt=PromptTemplate(input_variables=['input'], template=\"Populate a Contract based on the raw passage below. Use the the provided 'information_extraction' function.\\n\\nIf a property is not present and is not required in the function parameters, do not include it in the output.\\n\\n<Raw Passage>\\n{input}\\n</Raw Passage>\\n\\nRemember to respond using the XML-formating like so:\\n<tool>information_extraction</tool>\\n<tool_input>...THE TOOL INPUT</tool_input>\\n\\nBegin!\"))])"
      ]
     },
     "execution_count": 16,
     "metadata": {},
     "output_type": "execute_result"
    }
   ],
   "source": [
    "from pprint import pprint\n",
    "\n",
    "contract_prompt\n"
   ]
  },
  {
   "cell_type": "code",
   "execution_count": 10,
   "metadata": {},
   "outputs": [],
   "source": [
    "import logging\n",
    "\n",
    "# We will suppress any errors here since the documents are long\n",
    "# and could pollute the notebook output\n",
    "logger = logging.getLogger()\n",
    "logger.setLevel(logging.CRITICAL)"
   ]
  },
  {
   "cell_type": "code",
   "execution_count": 12,
   "metadata": {},
   "outputs": [
    {
     "name": "stdout",
     "output_type": "stream",
     "text": [
      "View the evaluation results for project 'test-sparkling-pleasure-47' at:\n",
      "https://smith.langchain.com/o/d43512dc-bbac-5ebf-a00e-57a322925756/projects/p/134662d1-042b-4a34-a313-0e490ca7d33f?eval=true\n",
      "\n",
      "View all tests for Dataset Contract Extraction - cb823edd-4c9c-43e6-9388-705f0eb6c51d at:\n",
      "https://smith.langchain.com/datasets/02448a51-1638-4b03-9c2b-02c42b2cd486\n",
      "[------------------------------------------------->] 16/16"
     ]
    }
   ],
   "source": [
    "from langchain.smith import RunEvalConfig\n",
    "\n",
    "eval_config = RunEvalConfig(\n",
    "    evaluators=[\"json_edit_distance\"],\n",
    ")\n",
    "res = client.run_on_dataset(\n",
    "    dataset_name=dataset_name,\n",
    "    llm_or_chain_factory=chain,\n",
    "    evaluation=eval_config,\n",
    "    # In case you are rate-limited\n",
    "    concurrency_level=2,\n",
    ")"
   ]
  },
  {
   "cell_type": "code",
   "execution_count": null,
   "metadata": {},
   "outputs": [],
   "source": []
  }
 ],
 "metadata": {
  "kernelspec": {
   "display_name": "ea_dev",
   "language": "python",
   "name": "python3"
  },
  "language_info": {
   "codemirror_mode": {
    "name": "ipython",
    "version": 3
   },
   "file_extension": ".py",
   "mimetype": "text/x-python",
   "name": "python",
   "nbconvert_exporter": "python",
   "pygments_lexer": "ipython3",
   "version": "3.11.5"
  }
 },
 "nbformat": 4,
 "nbformat_minor": 2
}
