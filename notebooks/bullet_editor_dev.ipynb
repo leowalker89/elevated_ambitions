{
 "cells": [
  {
   "cell_type": "markdown",
   "metadata": {},
   "source": [
    "### This notebook is used to dive building synthetic data for the resume editor\n",
    "\n",
    "I scraped ~400 example resumes however they don't have metrics like a real resume should have. So I'm going feed the bullet into a LLM and ask it to add metrics to the bullet, that paired with some general context like company name, job title, and years of experience will be able to provide a good bullet and come up with a story to support that bullet."
   ]
  },
  {
   "cell_type": "code",
   "execution_count": 17,
   "metadata": {},
   "outputs": [],
   "source": [
    "import streamlit as st\n",
    "import openai\n",
    "from langchain.document_loaders import PyPDFLoader\n",
    "from dotenv import load_dotenv\n",
    "import os\n",
    "import openai\n",
    "from PyPDF2 import PdfFileReader\n",
    "from pypdf import PdfReader\n",
    "from langchain.prompts import PromptTemplate\n",
    "from langchain.chat_models import ChatOpenAI\n",
    "import json\n",
    "\n",
    "# Load environment variables containing API keys\n",
    "load_dotenv()\n",
    "openai.api_key = os.getenv(\"OPENAI_API_KEY\")\n",
    "os.environ[\"LANGCHAIN_API_KEY\"] = str(os.getenv(\"LANGCHAIN_API_KEY\"))\n",
    "os.environ[\"LANGCHAIN_TRACING_V2\"] = \"true\"\n",
    "os.environ[\"LANGCHAIN_ENDPOINT\"] = \"https://api.smith.langchain.com\"\n",
    "os.environ[\"LANGCHAIN_PROJECT\"] = \"elevated_ambitions\"\n",
    "\n",
    "def analyze_resume(full_text, model='gpt-3.5-turbo-1106'):\n",
    "    \"\"\"\n",
    "    Analyze a resume text and extract structured information using a specified language model.\n",
    "\n",
    "    Parameters:\n",
    "    full_text (str): The text content of the resume.\n",
    "    model (str): The language model to use for processing the text.\n",
    "\n",
    "    Returns:\n",
    "    dict: A dictionary containing structured information extracted from the resume.\n",
    "    \"\"\"\n",
    "    # Load the prompt template and response template for resume analysis\n",
    "    with open(\"../prompts/resume_extraction.prompt\", \"r\") as f:\n",
    "        template = f.read()\n",
    "    with open(\"../templates/scale_profile_template.json\", \"r\") as f:\n",
    "        resume_template = f.read()\n",
    "\n",
    "    # Format the input for the language model\n",
    "    prompt_template = PromptTemplate(template=template, input_variables=['resume', 'response_template'])\n",
    "    formatted_input = prompt_template.format(resume=full_text, response_template=resume_template)\n",
    "\n",
    "    # Invoke the language model and process the resume\n",
    "    chat_llm = ChatOpenAI(model=model)\n",
    "    analysis_output = chat_llm.invoke(formatted_input)\n",
    "\n",
    "    return json.loads(analysis_output.content)\n",
    "\n",
    "def upgrade_experience_bullet(user_experience, bullet, model='gpt-3.5-turbo-1106'):\n",
    "    \"\"\"\n",
    "    Enhance a bullet point in a user's experience section using a language model.\n",
    "\n",
    "    Parameters:\n",
    "    user_experience (dict): A dictionary containing details of a user's experience.\n",
    "    bullet (str): The bullet point to be enhanced.\n",
    "    model (str): The language model to use for enhancement.\n",
    "\n",
    "    Returns:\n",
    "    str: The enhanced bullet point.\n",
    "    \"\"\"\n",
    "    # Load the bullet enhancement template\n",
    "    with open(\"../prompts/synthetic_bullet_builder.prompt\", \"r\") as f:\n",
    "        template = f.read()\n",
    "\n",
    "    # Format the input for the language model\n",
    "    prompt_template = PromptTemplate(template=template, input_variables=['user_summary', 'bullet_point'])\n",
    "    formatted_input = prompt_template.format(user_summary=user_experience, bullet_point=bullet)\n",
    "\n",
    "    # Invoke the language model and enhance the bullet point\n",
    "    chat_llm = ChatOpenAI(model=model)\n",
    "    analysis_output = chat_llm.invoke(formatted_input)\n",
    "\n",
    "    return analysis_output.content\n",
    "\n",
    "def upgrade_resume_bullets(extracted_resume):\n",
    "    \"\"\"\n",
    "    Iterate through the work experience in a resume and upgrade each bullet point.\n",
    "\n",
    "    Parameters:\n",
    "    extracted_resume (dict): A dictionary containing a structured resume.\n",
    "\n",
    "    Returns:\n",
    "    dict: The resume dictionary with enhanced bullet points in the work experience section.\n",
    "    \"\"\"\n",
    "    # Enhance bullet points for each work experience entry\n",
    "    for experience in extracted_resume['work_experience']:\n",
    "        experience_desc = ' '.join([experience[field] for field in ['company', 'title', 'duration', 'description']])\n",
    "        # skip experience if there is no achievements\n",
    "        if not experience['achievements']:\n",
    "            continue\n",
    "        else:\n",
    "            for i, bullet in enumerate(experience['achievements']):\n",
    "                # skip bullet if it is empty\n",
    "                if bullet == '':\n",
    "                    continue\n",
    "                else:\n",
    "                    experience['achievements'][i] = upgrade_experience_bullet(experience_desc, bullet)\n",
    "\n",
    "    return extracted_resume\n",
    "\n",
    "def generate_questions(user_profile, model='gpt-3.5-turbo-1106'):\n",
    "    \"\"\"\n",
    "    Generate interview questions based on a user's profile using a language model.\n",
    "\n",
    "    Parameters:\n",
    "    user_profile (dict): A dictionary containing the user's profile information.\n",
    "    model (str): The language model to use for question generation.\n",
    "\n",
    "    Returns:\n",
    "    dict: A dictionary containing generated interview questions.\n",
    "    \"\"\"\n",
    "    # Load the question generation template and response template\n",
    "    with open(\"../prompts/question_generation.prompt\", \"r\") as f:\n",
    "        question_template = f.read()\n",
    "    with open(\"../templates/profile_interview_template.json\", \"r\") as f:\n",
    "        profile_template = f.read()\n",
    "\n",
    "    # Format the input for the language model\n",
    "    prompt_template = PromptTemplate(template=question_template, input_variables=['user_profile', 'response_template'])\n",
    "    formatted_input = prompt_template.format(user_profile=user_profile, response_template=profile_template)\n",
    "\n",
    "    # Invoke the language model and generate questions\n",
    "    chat_llm = ChatOpenAI(model=model)\n",
    "    response = chat_llm.invoke(formatted_input)\n",
    "\n",
    "    return json.loads(response.content)\n",
    "\n",
    "def generate_synthetic_responses(user_profile, questions, model='gpt-3.5-turbo-1106'):\n",
    "    \"\"\"\n",
    "    Generate synthetic interview responses for a set of questions based on a user's profile.\n",
    "\n",
    "    Parameters:\n",
    "    user_profile (dict): A dictionary containing the user's profile information.\n",
    "    questions (dict): A dictionary containing interview questions.\n",
    "    model (str): The language model to use for generating responses.\n",
    "\n",
    "    Returns:\n",
    "    dict: A dictionary containing synthetic responses to the interview questions.\n",
    "    \"\"\"\n",
    "    # Load the interview response generation template\n",
    "    with open(\"../prompts/synthetic_interview_responses.prompt\", \"r\") as f:\n",
    "        resume_template = f.read()\n",
    "    with open(\"../templates/profile_interview_template.json\", \"r\") as f:\n",
    "        interview_template = f.read()\n",
    "\n",
    "    # Format the input for the language model\n",
    "    prompt_template = PromptTemplate(template=resume_template, input_variables=['user_profile', 'questions', 'template'])\n",
    "    formatted_input = prompt_template.format(user_profile=user_profile, questions=questions, template=interview_template)\n",
    "\n",
    "    # Invoke the language model and generate responses\n",
    "    chat_llm = ChatOpenAI(model=model)\n",
    "    response = chat_llm.invoke(formatted_input)\n",
    "\n",
    "    return json.loads(response.content)"
   ]
  },
  {
   "cell_type": "code",
   "execution_count": 2,
   "metadata": {},
   "outputs": [],
   "source": [
    "import pickle\n",
    "\n",
    "with open('resume_texts.pkl', 'rb') as f:\n",
    "    resume_texts = pickle.load(f)\n",
    "\n"
   ]
  },
  {
   "cell_type": "code",
   "execution_count": 3,
   "metadata": {},
   "outputs": [],
   "source": [
    "# take a random sample of 10 resumes\n",
    "import random\n",
    "sample_resumes = random.sample([resume for resume in resume_texts if resume != ''], 3)"
   ]
  },
  {
   "cell_type": "code",
   "execution_count": 4,
   "metadata": {},
   "outputs": [
    {
     "data": {
      "text/plain": [
       "['Drew CallaghanProfessional Event Coordinator936-536-8346Callaghandrew@hotmail.comLinkedin.com/in/drewcallaghan\\xa0Professional Summary\\xa0Meticulous event coordinator with 5 years of event management experience in the hospitality industry. Maintained a 5-star record across 2.5 years of working at Grand Plaza Hotel as Chief Event Supervisor. Established robust vendor and sponsorship deals, reducing event organization costs by 15%. Looking to join IndigoChic to expand on my existing skillset and further elevate the company’s already renowned reputation.\\xa0Work Experience\\xa0Chief Event SupervisorGrand Plaza Hotel, Dallas, TXMarch 2013–October 2016Ensured top quality service for over 400 events hosted by the hotel.Assisted organizers in picking the most appropriate venue, food menu, and décor, depending on number of attendees (25–600).Trained a team of other employees in proper hospitality etiquette.Assisted in preparing marketing and promotional material to generate more interest.Developed sponsorships and vendor relations, leading to 15% savings.Key Achievement: Managed event budgets up to $100.000, without ever going over the limit.\\xa0Hospitality AssociateMahogany Lounge, Oxhorn, TNApril 2011–March 2013Maintained 100% guest satisfaction by ensuring all needs are met.Coordinated setup and cleanup of dining room and conference rooms.Worked together with other staff members to create an unforgettable bed and breakfast experience for up to 200 monthly guests.\\xa0Education\\xa0Bachelor’s Degree in ManagementUniversity of Richmond, VA2006–2010\\xa0Skills\\xa0Digital marketingCommunicationSponsorship developmentEvent coordinationStaff managementGreat teamwork and interpersonal skillsSchedulingLeadershipProblem-solvingFinancial management and budgeting\\xa0Certifications\\xa0GTP Certification, Global Business Travel Association (GBTA), 2013Cvent Supplier Professional Certification, Cvent Academy, 2013\\xa0Personal Interests\\xa0Hosting house parties and get-togethersFollowing newest digital marketing trends',\n",
       " 'Michael Lee-RodgersCertified Medical Coderm.leerodgers@gmail.com920-201-0683linkedin.com/in/michaelleer\\xa0Summary of Qualifications\\xa0CPC®-certified medical coder with 5+ years of professional experience in application and evaluation of various code sets. In previous roles abstracted and assigned ICD and CPT codes to patient medical records, maintaining 97% accuracy per 150 daily claims. Seeking to leverage coding guidelines knowledge and strong analytical skills to implement smooth coding service at NY Metropolitan Hospital.\\xa0Work Experience\\xa0Medical CoderWestern State Hospital, Jamestown, VAJuly 2016–January 2019Key Qualifications & ResponsibilitiesAccurately assigned ICD and CPT codes to patient medical records.Reviewed patient charts and identified discrepancies in the medical documentation.Performed computer assisted coding (CAC) using radiology information systems.Interpreted medical terminology (especially related to diagnostic radiology) in order to translate it into the coding software.Analyzed DRG assignments using ICD-9-CM codes.Communicated with insurance companies regarding the updates in invoices.Key Achievement:Maintained 97% accuracy per 150 daily claims when assigning ICD and CPT codes to patient records.\\xa0Medical CoderMedic Virginia Clinic, Jamestown, VAJanuary 2014-July 2016Key Qualifications & ResponsibilitiesAssigned a sequence of ICD-9 CM and CPT codes to clinic patient records.Scanned paper patient charts into the system and ensured their accuracy.Worked on patient record audits and documentation quality checks.Followed state law requirements when performing coding procedures.Prepared patient charts for the registration to appointments.\\xa0Education\\xa0BA of Medical Information TechnologyUniversity of Jamestown, Jamestown, VASeptember 2011-June 2014\\xa0Skills\\xa0CPT®, ICD-10-CM, and HCPCS Level II codesMedicare insurance regulationsStandardised classification workflowMedical terminologyData entry and managementSpeed typingAnalytical skillsDecision makingProblem solvingTime management\\xa0Certificates\\xa0Certified Professional Coder, CPC®Family Practice, CFPC™Certificate in Medical Terminology 2017, University of Jamestown\\xa0Conferences\\xa0HEALTHCON 2018, Orlando, FLWashington, DC Regional Conference 2018, Washington, DC',\n",
       " \"Lamar GrossMarketing Director507-407-8703lamarzgross@gmail.comlinkedin.com/in/lamarzgrosstwitter.com/lamarzgross\\xa0Dynamic marketing director with 5+ years of experience developing and executing marketing strategies for top consumer brands. Seeking to improve brand awareness and recognition for Market Couch Inc. At Fly Sale Inc. increased lead flow 35% while decreasing CPL.\\xa0Experience\\xa0Marketing DirectorFly Sale IncFeb 2017 to Jan 2020Key Qualifications & ResponsibilitiesDeveloped overall marketing program and achieved profit margin and sales objectives totaling $98 million annually.Grew customer base over 80% and increased revenue 92% by creating & implementing 27 campaigns.Led team of 18 marketing associates and creatives to increase external clients by 78% in 2019.Managed social media strategies across channels.Key Achievement:Led the highest performing campaign in 2018 with a 35% open rate effectively resolving credit program's loss.\\xa0Marketing DirectorBlink AdvertiseAug 2015 to Jun 2017Increased lead generation by 250% in 2016, through branding, web design and online campaigns.Acquired 50 new accounts and grew sales by over 70%.Achieved 50% over quota on sales and partnership marketing.Executed marketing campaigns for the company's web solutions\\xa0Sales RepresentativeSnap Retail Inc.July 2014 to July 2015Averaged a 90% close rate and 95% conversion rate for repeat clients.Provided customer care to 100+ accounts across 3 states.Prepared client quotes and answered inquiries regarding products.\\xa0Education\\xa0Bachelor of Arts in MarketingSt. Cloud State University2010-2014Pursued a passion for human resource management.Created marketing campaign for student bookstore raising revenue 38% in Q2.\\xa0Skills\\xa0Social Media MarketingStrategic PlanningMarket ResearchMarketing CommunicationsBrandingCommunication SkillsPlanning SkillsAnalytical SkillsAdaptability\\xa0Member, AMA\\xa0Connected 15+ companies directly with 30 students during events.Trained 18 new members in ERP software.\\xa0Certifications\\xa0American Marketing Association Digital Marketing CertificationHubspot Inbound Marketing Certification\"]"
      ]
     },
     "execution_count": 4,
     "metadata": {},
     "output_type": "execute_result"
    }
   ],
   "source": [
    "sample_resumes"
   ]
  },
  {
   "cell_type": "code",
   "execution_count": 18,
   "metadata": {},
   "outputs": [],
   "source": [
    "# now that we have our samples lets upgrade each of them\n",
    "upgraded_profiles = []\n",
    "for resume in sample_resumes:\n",
    "    upgraded_profiles.append(upgrade_resume_bullets(analyze_resume(resume)))"
   ]
  },
  {
   "cell_type": "markdown",
   "metadata": {},
   "source": [
    "Now that we have the upgraded resumes, we can generate questions for each area of the profile. \n",
    "\n",
    "We now need to set up a way to generate answers for the questions. We can do this by using the LLM to generate answers for each que."
   ]
  },
  {
   "cell_type": "code",
   "execution_count": 20,
   "metadata": {},
   "outputs": [],
   "source": [
    "questions = []\n",
    "for resume in upgraded_profiles:\n",
    "    questions.append(generate_questions(resume))\n"
   ]
  },
  {
   "cell_type": "code",
   "execution_count": 24,
   "metadata": {},
   "outputs": [
    {
     "name": "stdout",
     "output_type": "stream",
     "text": [
      "{\n",
      "  \"education\": [\n",
      "    {\n",
      "      \"interview_responses\": {\n",
      "        \"question_1\": \"During your Bachelor's in Management at the University of Richmond, what were some key projects or coursework that had a significant impact on your understanding of event coordination and management?\",\n",
      "        \"response_1\": \"BLUF: My studies in Management, specifically courses in Project Management and Organizational Behavior, provided a strong foundation for my career in event coordination. Situation: While pursuing my Bachelor's in Management, I had the opportunity to work on several projects that allowed me to apply theoretical knowledge in a practical setting. Task: In my Project Management course, I was assigned to organize a fundraising event for a local charity. Action: I was responsible for budgeting, vendor management, and ensuring a smooth execution of the event. Result: This experience honed my problem-solving skills, attention to detail, and ability to work under pressure, all of which have been invaluable in my career in event coordination.\",\n",
      "        \"question_2\": \"How did your educational background prepare you for the role of Chief Event Supervisor at Grand Plaza Hotel?\",\n",
      "        \"response_2\": \"BLUF: My education equipped me with the essential skills and knowledge required to excel as a Chief Event Supervisor. Situation: My Management degree encompassed a wide range of relevant subjects such as Financial Management, Operations Management, and Leadership. Task: These subjects tasked me with understanding the different facets of operating a successful business. Action: The theoretical knowledge and practical assignments helped me understand how to manage budgets, oversee operations, and lead a team effectively. Result: These skills translated directly into my role at Grand Plaza Hotel, allowing me to manage event budgets of up to $100,000 and supervise a team to ensure top-quality service.\"\n",
      "      }\n",
      "    }\n",
      "  ],\n",
      "  \"work_experience\": [\n",
      "    {\n",
      "      \"interview_responses\": {\n",
      "        \"question_1\": \"As Chief Event Supervisor at Grand Plaza Hotel, describe a challenging situation you encountered and how you managed it. What skills did you develop from this experience?\",\n",
      "        \"response_1\": \"BLUF: Managed a high-stakes event with a tight budget, leading to successful execution and savings. Situation: I was tasked with coordinating a large, high-profile event at Grand Plaza Hotel, but with a budget that was significantly lower than usual. Task: The challenge was to deliver the same level of quality and service that our clients were accustomed to, without compromising on the budget. Action: I leveraged my strong vendor relationships to negotiate better deals and managed resources efficiently. Result: We successfully hosted the event without exceeding the budget, resulting in client satisfaction and a 15% savings.\",\n",
      "        \"question_2\": \"What specific strategies did you implement as a Hospitality Associate at Mahogany Lounge to ensure guest satisfaction and create a memorable experience?\",\n",
      "        \"response_2\": \"BLUF: Implemented personalized service strategies, resulting in 100% guest satisfaction. Situation: At Mahogany Lounge, our goal was to provide an unforgettable bed and breakfast experience for our guests. Task: My task was to ensure all guest needs were met and their experience was memorable. Action: I coordinated setup and cleanup of dining and conference rooms, and worked closely with other staff members to personalize our services for each guest. Result: These strategies helped us maintain a 100% guest satisfaction rate during my tenure.\"\n",
      "      }\n",
      "    }\n",
      "  ],\n",
      "  \"additional_sections\": {\n",
      "    \"interests_responses\": {\n",
      "      \"question_1\": \"How do your interests in hosting house parties and following digital marketing trends contribute to your event coordination skills and creativity?\",\n",
      "      \"response_1\": \"BLUF: My interests in hosting and digital marketing directly contribute to my creativity and understanding of event coordination. Situation: I frequently host house parties and get-togethers, which helps me understand the essentials of creating a memorable and enjoyable event experience. Task: Simultaneously, keeping up with digital marketing trends allows me to understand the latest strategies for event promotion and audience engagement. Action: I combine these insights to create unique event concepts and effective marketing strategies. Result: This unique blend of practical experience and industry knowledge has enhanced my event coordination skills and allowed me to bring creative solutions to my professional roles.\",\n",
      "      \"question_2\": \"Can you provide an example of how your interest in digital marketing trends influenced your approach to event management or hospitality?\",\n",
      "      \"response_2\": \"BLUF: Leveraged digital marketing trends to enhance event visibility and engagement. Situation: During my tenure at Grand Plaza Hotel, we were hosting a series of events that were facing low pre-event engagement. Task: My task was to increase event visibility and audience engagement. Action: Drawing on my interest in digital marketing trends, I initiated a social media campaign using targeted ads and influencer partnerships. Result: This strategy increased our event visibility by 40% and boosted ticket sales.\"\n",
      "    }\n",
      "  }\n",
      "}\n"
     ]
    }
   ],
   "source": [
    "output = generate_synthetic_responses(upgraded_profiles[0], questions[0], model='gpt-4')\n",
    "# print(f'Profile: {upgraded_profiles[0]} \\n Questions: {questions[0]}\\n Output: {output}')"
   ]
  },
  {
   "cell_type": "code",
   "execution_count": null,
   "metadata": {},
   "outputs": [],
   "source": []
  },
  {
   "cell_type": "code",
   "execution_count": null,
   "metadata": {},
   "outputs": [],
   "source": []
  }
 ],
 "metadata": {
  "kernelspec": {
   "display_name": "ea_dev",
   "language": "python",
   "name": "python3"
  },
  "language_info": {
   "codemirror_mode": {
    "name": "ipython",
    "version": 3
   },
   "file_extension": ".py",
   "mimetype": "text/x-python",
   "name": "python",
   "nbconvert_exporter": "python",
   "pygments_lexer": "ipython3",
   "version": "3.11.5"
  }
 },
 "nbformat": 4,
 "nbformat_minor": 2
}
